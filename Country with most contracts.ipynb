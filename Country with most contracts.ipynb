{
 "cells": [
  {
   "cell_type": "markdown",
   "id": "c3ac26fc",
   "metadata": {},
   "source": [
    "# Get the country with most contracts, if tie use lexicographical sort to untie"
   ]
  },
  {
   "cell_type": "code",
   "execution_count": 13,
   "id": "113dff25",
   "metadata": {},
   "outputs": [],
   "source": [
    "import pandas as pd"
   ]
  },
  {
   "cell_type": "code",
   "execution_count": 14,
   "id": "a52cd002",
   "metadata": {},
   "outputs": [
    {
     "data": {
      "text/html": [
       "<div>\n",
       "<style scoped>\n",
       "    .dataframe tbody tr th:only-of-type {\n",
       "        vertical-align: middle;\n",
       "    }\n",
       "\n",
       "    .dataframe tbody tr th {\n",
       "        vertical-align: top;\n",
       "    }\n",
       "\n",
       "    .dataframe thead th {\n",
       "        text-align: right;\n",
       "    }\n",
       "</style>\n",
       "<table border=\"1\" class=\"dataframe\">\n",
       "  <thead>\n",
       "    <tr style=\"text-align: right;\">\n",
       "      <th></th>\n",
       "      <th>Company</th>\n",
       "      <th>Country</th>\n",
       "      <th>Contracts</th>\n",
       "    </tr>\n",
       "  </thead>\n",
       "  <tbody>\n",
       "    <tr>\n",
       "      <th>0</th>\n",
       "      <td>ExxonMobil</td>\n",
       "      <td>US</td>\n",
       "      <td>590</td>\n",
       "    </tr>\n",
       "    <tr>\n",
       "      <th>1</th>\n",
       "      <td>ExxonMobil</td>\n",
       "      <td>UK</td>\n",
       "      <td>300</td>\n",
       "    </tr>\n",
       "    <tr>\n",
       "      <th>2</th>\n",
       "      <td>ExxonMobil</td>\n",
       "      <td>Brazil</td>\n",
       "      <td>25</td>\n",
       "    </tr>\n",
       "    <tr>\n",
       "      <th>3</th>\n",
       "      <td>Nextera</td>\n",
       "      <td>US</td>\n",
       "      <td>125</td>\n",
       "    </tr>\n",
       "    <tr>\n",
       "      <th>4</th>\n",
       "      <td>BBC</td>\n",
       "      <td>UK</td>\n",
       "      <td>300</td>\n",
       "    </tr>\n",
       "    <tr>\n",
       "      <th>5</th>\n",
       "      <td>BBC</td>\n",
       "      <td>Brazil</td>\n",
       "      <td>30</td>\n",
       "    </tr>\n",
       "    <tr>\n",
       "      <th>6</th>\n",
       "      <td>HSBC</td>\n",
       "      <td>UK</td>\n",
       "      <td>114</td>\n",
       "    </tr>\n",
       "  </tbody>\n",
       "</table>\n",
       "</div>"
      ],
      "text/plain": [
       "      Company Country  Contracts\n",
       "0  ExxonMobil      US        590\n",
       "1  ExxonMobil      UK        300\n",
       "2  ExxonMobil  Brazil         25\n",
       "3     Nextera      US        125\n",
       "4         BBC      UK        300\n",
       "5         BBC  Brazil         30\n",
       "6        HSBC      UK        114"
      ]
     },
     "execution_count": 14,
     "metadata": {},
     "output_type": "execute_result"
    }
   ],
   "source": [
    "dataset = pd.read_csv('data/contracts.csv', sep = ';')\n",
    "dataset"
   ]
  },
  {
   "cell_type": "code",
   "execution_count": 15,
   "id": "a8512ca9",
   "metadata": {},
   "outputs": [
    {
     "data": {
      "text/html": [
       "<div>\n",
       "<style scoped>\n",
       "    .dataframe tbody tr th:only-of-type {\n",
       "        vertical-align: middle;\n",
       "    }\n",
       "\n",
       "    .dataframe tbody tr th {\n",
       "        vertical-align: top;\n",
       "    }\n",
       "\n",
       "    .dataframe thead th {\n",
       "        text-align: right;\n",
       "    }\n",
       "</style>\n",
       "<table border=\"1\" class=\"dataframe\">\n",
       "  <thead>\n",
       "    <tr style=\"text-align: right;\">\n",
       "      <th></th>\n",
       "      <th>Contracts</th>\n",
       "    </tr>\n",
       "    <tr>\n",
       "      <th>Country</th>\n",
       "      <th></th>\n",
       "    </tr>\n",
       "  </thead>\n",
       "  <tbody>\n",
       "    <tr>\n",
       "      <th>Brazil</th>\n",
       "      <td>55</td>\n",
       "    </tr>\n",
       "    <tr>\n",
       "      <th>UK</th>\n",
       "      <td>714</td>\n",
       "    </tr>\n",
       "    <tr>\n",
       "      <th>US</th>\n",
       "      <td>715</td>\n",
       "    </tr>\n",
       "  </tbody>\n",
       "</table>\n",
       "</div>"
      ],
      "text/plain": [
       "         Contracts\n",
       "Country           \n",
       "Brazil          55\n",
       "UK             714\n",
       "US             715"
      ]
     },
     "execution_count": 15,
     "metadata": {},
     "output_type": "execute_result"
    }
   ],
   "source": [
    "#Sums the total contracts grouping by country\n",
    "contracts_by_country = dataset.groupby('Country').sum('Contracts')\n",
    "contracts_by_country"
   ]
  },
  {
   "cell_type": "code",
   "execution_count": 16,
   "id": "7293d6ff",
   "metadata": {},
   "outputs": [
    {
     "name": "stdout",
     "output_type": "stream",
     "text": [
      "The country with most contracts is US!! (It has 715 contracts.)\n"
     ]
    }
   ],
   "source": [
    "#Gets greatest number of contracts\n",
    "max_contracts = contracts_by_country.Contracts.max()\n",
    "\n",
    "#Defines a selection for the greatest number of contracts\n",
    "max_contracts_sel = contracts_by_country.Contracts == contracts_by_country.Contracts.max()\n",
    "\n",
    "#Extracts the country names filtering by above selection\n",
    "countries_with_max_contracts = list(contracts_by_country[max_contracts_sel].Contracts.index)\n",
    "\n",
    "#Sorts the country names and gets the first one after sorting\n",
    "countries_with_max_contracts.sort()\n",
    "final_country = countries_with_max_contracts[0]\n",
    "\n",
    "#Final print\n",
    "print(f'The country with most contracts is {final_country}!! (It has {max_contracts} contracts.)')\n"
   ]
  },
  {
   "cell_type": "code",
   "execution_count": null,
   "id": "a368db69",
   "metadata": {},
   "outputs": [],
   "source": []
  }
 ],
 "metadata": {
  "kernelspec": {
   "display_name": "Python 3 (ipykernel)",
   "language": "python",
   "name": "python3"
  },
  "language_info": {
   "codemirror_mode": {
    "name": "ipython",
    "version": 3
   },
   "file_extension": ".py",
   "mimetype": "text/x-python",
   "name": "python",
   "nbconvert_exporter": "python",
   "pygments_lexer": "ipython3",
   "version": "3.9.7"
  }
 },
 "nbformat": 4,
 "nbformat_minor": 5
}
